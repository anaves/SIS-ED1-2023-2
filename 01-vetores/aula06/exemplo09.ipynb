{
 "cells": [
  {
   "attachments": {},
   "cell_type": "markdown",
   "metadata": {},
   "source": [
    "# ED heterogenea\n",
    "Utilizada quando desejamos armazenar valores de diferentes tipos"
   ]
  },
  {
   "cell_type": "code",
   "execution_count": 1,
   "metadata": {},
   "outputs": [],
   "source": [
    "cliente_1 = [\"Dorival\", 12, 'dorival@email.com.br']"
   ]
  },
  {
   "cell_type": "code",
   "execution_count": 3,
   "metadata": {},
   "outputs": [],
   "source": [
    "cliente_2 = [\"Gilberto\", 11, 'gilberto@email.com.br']"
   ]
  },
  {
   "cell_type": "code",
   "execution_count": 5,
   "metadata": {},
   "outputs": [
    {
     "name": "stdout",
     "output_type": "stream",
     "text": [
      "nome: Dorival\n",
      "idade: 12\n",
      "e-mail: dorival@email.com.br\n"
     ]
    }
   ],
   "source": [
    "print(f'nome: {cliente_1[0]}')\n",
    "print(f'idade: {cliente_1[1]}')\n",
    "print(f'e-mail: {cliente_1[2]}')"
   ]
  },
  {
   "cell_type": "code",
   "execution_count": 6,
   "metadata": {},
   "outputs": [
    {
     "name": "stdout",
     "output_type": "stream",
     "text": [
      "[['Dorival', 12, 'dorival@email.com.br'], ['Gilberto', 11, 'gilberto@email.com.br']]\n"
     ]
    }
   ],
   "source": [
    "clientes = []\n",
    "clientes.append(cliente_1)\n",
    "clientes.append(cliente_2)\n",
    "print(clientes)"
   ]
  },
  {
   "cell_type": "code",
   "execution_count": 7,
   "metadata": {},
   "outputs": [
    {
     "data": {
      "text/plain": [
       "['Gilberto', 11, 'gilberto@email.com.br']"
      ]
     },
     "execution_count": 7,
     "metadata": {},
     "output_type": "execute_result"
    }
   ],
   "source": [
    "clientes[1] # vai devolver o cliente Gilberto"
   ]
  },
  {
   "cell_type": "code",
   "execution_count": 10,
   "metadata": {},
   "outputs": [
    {
     "name": "stdout",
     "output_type": "stream",
     "text": [
      "--------------\n",
      "nome: Dorival\n",
      "idade: 12\n",
      "e-mail: dorival@email.com.br\n",
      "--------------\n",
      "nome: Gilberto\n",
      "idade: 11\n",
      "e-mail: gilberto@email.com.br\n"
     ]
    }
   ],
   "source": [
    "for i in range(len(clientes)):\n",
    "    cli = clientes[i]\n",
    "    print('--------------')\n",
    "    print(f'nome: {cli[0]}')\n",
    "    print(f'idade: {cli[1]}')\n",
    "    print(f'e-mail: {cli[2]}')"
   ]
  },
  {
   "cell_type": "code",
   "execution_count": null,
   "metadata": {},
   "outputs": [],
   "source": []
  }
 ],
 "metadata": {
  "kernelspec": {
   "display_name": "colab",
   "language": "python",
   "name": "python3"
  },
  "language_info": {
   "codemirror_mode": {
    "name": "ipython",
    "version": 3
   },
   "file_extension": ".py",
   "mimetype": "text/x-python",
   "name": "python",
   "nbconvert_exporter": "python",
   "pygments_lexer": "ipython3",
   "version": "3.9.16"
  },
  "orig_nbformat": 4
 },
 "nbformat": 4,
 "nbformat_minor": 2
}
