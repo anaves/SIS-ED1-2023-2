{
 "cells": [
  {
   "attachments": {},
   "cell_type": "markdown",
   "metadata": {},
   "source": [
    "Listas -> Vetor (array)\n",
    "Listas (sao ED dinamicas -> aumenta ou diminui de tamanho de acordo com os dados armazenados)\n",
    "Vetor (sao ED estaticas -> mantem o tamanho fixo)\n",
    "No python - Nao tem vetor "
   ]
  },
  {
   "cell_type": "code",
   "execution_count": 1,
   "metadata": {},
   "outputs": [],
   "source": [
    "numeros = [1,4,9,16,25]"
   ]
  },
  {
   "cell_type": "code",
   "execution_count": 2,
   "metadata": {},
   "outputs": [
    {
     "name": "stdout",
     "output_type": "stream",
     "text": [
      "4\n"
     ]
    }
   ],
   "source": [
    "print(numeros[1])  # me retorna o valor 4"
   ]
  },
  {
   "cell_type": "code",
   "execution_count": 3,
   "metadata": {},
   "outputs": [],
   "source": [
    "numeros[1] = 6  # alterando o conteudo armazenado na posicao 1"
   ]
  },
  {
   "cell_type": "code",
   "execution_count": 4,
   "metadata": {},
   "outputs": [
    {
     "name": "stdout",
     "output_type": "stream",
     "text": [
      "6\n"
     ]
    }
   ],
   "source": [
    "print(numeros[1])  # me retorna o valor 6"
   ]
  },
  {
   "cell_type": "code",
   "execution_count": 5,
   "metadata": {},
   "outputs": [
    {
     "name": "stdout",
     "output_type": "stream",
     "text": [
      "[1, 6, 9, 16, 25]\n"
     ]
    }
   ],
   "source": [
    "print(numeros)"
   ]
  },
  {
   "cell_type": "code",
   "execution_count": 6,
   "metadata": {},
   "outputs": [
    {
     "name": "stdout",
     "output_type": "stream",
     "text": [
      "9\n"
     ]
    }
   ],
   "source": [
    "print(numeros[2]) ###  retorna o item indexado por 2, retorna o valor da posicao 2"
   ]
  },
  {
   "cell_type": "code",
   "execution_count": 7,
   "metadata": {},
   "outputs": [
    {
     "name": "stdout",
     "output_type": "stream",
     "text": [
      "25\n"
     ]
    }
   ],
   "source": [
    "# consultar o ultimo elemento\n",
    "print(numeros[-1])"
   ]
  },
  {
   "cell_type": "code",
   "execution_count": 9,
   "metadata": {},
   "outputs": [
    {
     "name": "stdout",
     "output_type": "stream",
     "text": [
      "25\n"
     ]
    }
   ],
   "source": [
    "# outra forma\n",
    "print(numeros[len(numeros)-1])"
   ]
  },
  {
   "cell_type": "code",
   "execution_count": 11,
   "metadata": {},
   "outputs": [
    {
     "name": "stdout",
     "output_type": "stream",
     "text": [
      "[1, 6, 9, 16, 25, 36, 49, 64]\n"
     ]
    }
   ],
   "source": [
    "# uniao de listas\n",
    "outra_lista = [36, 49, 64]\n",
    "nova_lista = numeros + outra_lista\n",
    "print(nova_lista)"
   ]
  },
  {
   "cell_type": "code",
   "execution_count": 12,
   "metadata": {},
   "outputs": [
    {
     "name": "stdout",
     "output_type": "stream",
     "text": [
      "[1, 6, 9, 16, 25, 36, 49, 64, 81]\n"
     ]
    }
   ],
   "source": [
    "# adicionar novos elementos na lista\n",
    "nova_lista.append(9*9)\n",
    "print(nova_lista)"
   ]
  },
  {
   "cell_type": "code",
   "execution_count": 13,
   "metadata": {},
   "outputs": [
    {
     "name": "stdout",
     "output_type": "stream",
     "text": [
      "[1, 4, 9, 16, 25, 36, 49, 64, 81]\n"
     ]
    }
   ],
   "source": [
    "# corrigir o elemento da posicao 1\n",
    "nova_lista[1] = 2**2\n",
    "print(nova_lista)"
   ]
  },
  {
   "cell_type": "code",
   "execution_count": 14,
   "metadata": {},
   "outputs": [
    {
     "name": "stdout",
     "output_type": "stream",
     "text": [
      "1\n",
      "4\n",
      "9\n",
      "16\n",
      "25\n",
      "36\n",
      "49\n",
      "64\n",
      "81\n"
     ]
    }
   ],
   "source": [
    "# percorrer a lista exibindo apenas os valores\n",
    "for valor in nova_lista:\n",
    "    print(valor)\n"
   ]
  },
  {
   "cell_type": "code",
   "execution_count": 15,
   "metadata": {},
   "outputs": [
    {
     "name": "stdout",
     "output_type": "stream",
     "text": [
      "indice = 0 e valor = 1\n",
      "indice = 1 e valor = 4\n",
      "indice = 2 e valor = 9\n",
      "indice = 3 e valor = 16\n",
      "indice = 4 e valor = 25\n",
      "indice = 5 e valor = 36\n",
      "indice = 6 e valor = 49\n",
      "indice = 7 e valor = 64\n",
      "indice = 8 e valor = 81\n"
     ]
    }
   ],
   "source": [
    "# trazer o indice e valor\n",
    "for indice in range(len(nova_lista)):\n",
    "    valor = nova_lista[indice]\n",
    "    print(f'indice = {indice} e valor = {valor}')"
   ]
  },
  {
   "cell_type": "code",
   "execution_count": 16,
   "metadata": {},
   "outputs": [
    {
     "name": "stdout",
     "output_type": "stream",
     "text": [
      "indice = 0 e valor = 1\n",
      "indice = 1 e valor = 4\n",
      "indice = 2 e valor = 9\n",
      "indice = 3 e valor = 16\n",
      "indice = 4 e valor = 25\n",
      "indice = 5 e valor = 36\n",
      "indice = 6 e valor = 49\n",
      "indice = 7 e valor = 64\n",
      "indice = 8 e valor = 81\n"
     ]
    }
   ],
   "source": [
    "# outra maneira\n",
    "for indice, valor in enumerate(nova_lista):\n",
    "    print(f'indice = {indice} e valor = {valor}')"
   ]
  }
 ],
 "metadata": {
  "kernelspec": {
   "display_name": "colab",
   "language": "python",
   "name": "python3"
  },
  "language_info": {
   "codemirror_mode": {
    "name": "ipython",
    "version": 3
   },
   "file_extension": ".py",
   "mimetype": "text/x-python",
   "name": "python",
   "nbconvert_exporter": "python",
   "pygments_lexer": "ipython3",
   "version": "3.9.16"
  },
  "orig_nbformat": 4
 },
 "nbformat": 4,
 "nbformat_minor": 2
}
